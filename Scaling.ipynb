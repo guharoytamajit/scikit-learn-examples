{
 "cells": [
  {
   "cell_type": "code",
   "execution_count": 3,
   "metadata": {},
   "outputs": [
    {
     "data": {
      "text/plain": [
       "array([[ 2.2,  5.9, -1.8],\n",
       "       [ 5.4, -3.2, -5.1],\n",
       "       [-1.9,  4.2,  3.2]])"
      ]
     },
     "execution_count": 3,
     "metadata": {},
     "output_type": "execute_result"
    }
   ],
   "source": [
    "from sklearn import preprocessing\n",
    "import numpy as np \n",
    "\n",
    "data = np.array([[2.2, 5.9, -1.8], [5.4, -3.2, -5.1], [-1.9, 4.2, 3.2]])\n",
    "data"
   ]
  },
  {
   "cell_type": "code",
   "execution_count": 5,
   "metadata": {},
   "outputs": [
    {
     "name": "stdout",
     "output_type": "stream",
     "text": [
      "MinMaxScaler applied on the data:\n",
      " [[ 0.56164384  1.          0.39759036]\n",
      " [ 1.          0.          0.        ]\n",
      " [ 0.          0.81318681  1.        ]]\n"
     ]
    }
   ],
   "source": [
    "minmax_scaler = preprocessing.MinMaxScaler(feature_range=(0,1))\n",
    "data_minmax = minmax_scaler.fit_transform(data)\n",
    "print('MinMaxScaler applied on the data:\\n', data_minmax)"
   ]
  },
  {
   "cell_type": "code",
   "execution_count": 9,
   "metadata": {},
   "outputs": [
    {
     "name": "stdout",
     "output_type": "stream",
     "text": [
      "StandardScaler applied on the data:\n",
      " [[ 0.10040991  0.91127074 -0.16607709]\n",
      " [ 1.171449   -1.39221918 -1.1332319 ]\n",
      " [-1.27185891  0.48094844  1.29930899]]\n"
     ]
    }
   ],
   "source": [
    "ss = preprocessing.StandardScaler()\n",
    "data_ss = ss.fit_transform(data)\n",
    "print('StandardScaler applied on the data:\\n', data_ss)"
   ]
  },
  {
   "cell_type": "code",
   "execution_count": 10,
   "metadata": {},
   "outputs": [
    {
     "name": "stdout",
     "output_type": "stream",
     "text": [
      "RobustScaler applied on the data:\n",
      " [[ 0.          0.37362637  0.        ]\n",
      " [ 0.87671233 -1.62637363 -0.79518072]\n",
      " [-1.12328767  0.          1.20481928]]\n"
     ]
    }
   ],
   "source": [
    "rs = preprocessing.RobustScaler()\n",
    "data_rs = rs.fit_transform(data)\n",
    "print('RobustScaler applied on the data:\\n', data_rs)"
   ]
  },
  {
   "cell_type": "code",
   "execution_count": 11,
   "metadata": {},
   "outputs": [
    {
     "name": "stdout",
     "output_type": "stream",
     "text": [
      "Normalizer applied on the data:\n",
      " [[ 0.3359268   0.90089461 -0.2748492 ]\n",
      " [ 0.6676851  -0.39566524 -0.63059148]\n",
      " [-0.33858465  0.74845029  0.57024784]]\n"
     ]
    }
   ],
   "source": [
    "rs = preprocessing.Normalizer()\n",
    "data_normalizer = rs.fit_transform(data)\n",
    "print('Normalizer applied on the data:\\n', data_normalizer)"
   ]
  },
  {
   "cell_type": "markdown",
   "metadata": {},
   "source": [
    "Binarization"
   ]
  },
  {
   "cell_type": "code",
   "execution_count": 12,
   "metadata": {},
   "outputs": [
    {
     "name": "stdout",
     "output_type": "stream",
     "text": [
      "Binarized data:\n",
      "\n",
      " [[ 1.  1.  0.]\n",
      " [ 1.  0.  0.]\n",
      " [ 0.  1.  1.]]\n"
     ]
    }
   ],
   "source": [
    "bindata = preprocessing.Binarizer(threshold=1.5).transform(data)\n",
    "print('Binarized data:\\n\\n', bindata)"
   ]
  },
  {
   "cell_type": "markdown",
   "metadata": {},
   "source": [
    "Mean Removal"
   ]
  },
  {
   "cell_type": "code",
   "execution_count": 13,
   "metadata": {},
   "outputs": [
    {
     "name": "stdout",
     "output_type": "stream",
     "text": [
      "Mean (before)=  [ 1.9         2.3        -1.23333333]\n",
      "Standard Deviation (before)=  [ 2.98775278  3.95052739  3.41207008]\n",
      "Mean (after)=  [  0.00000000e+00   0.00000000e+00   7.40148683e-17]\n",
      "Standard Deviation (after)=  [ 1.  1.  1.]\n"
     ]
    }
   ],
   "source": [
    "print('Mean (before)= ', data.mean(axis=0))\n",
    "print('Standard Deviation (before)= ', data.std(axis=0))\n",
    "scaled_data = preprocessing.scale(data)\n",
    "print('Mean (after)= ', scaled_data.mean(axis=0))\n",
    "print('Standard Deviation (after)= ', scaled_data.std(axis=0))"
   ]
  }
 ],
 "metadata": {
  "kernelspec": {
   "display_name": "tensorflow",
   "language": "python",
   "name": "tensorflow"
  },
  "language_info": {
   "codemirror_mode": {
    "name": "ipython",
    "version": 3
   },
   "file_extension": ".py",
   "mimetype": "text/x-python",
   "name": "python",
   "nbconvert_exporter": "python",
   "pygments_lexer": "ipython3",
   "version": "3.5.3"
  }
 },
 "nbformat": 4,
 "nbformat_minor": 2
}
